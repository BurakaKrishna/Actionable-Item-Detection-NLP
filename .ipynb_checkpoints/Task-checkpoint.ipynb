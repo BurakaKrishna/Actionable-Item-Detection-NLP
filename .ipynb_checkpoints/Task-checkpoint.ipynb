{
 "cells": [
  {
   "cell_type": "code",
   "execution_count": 27,
   "metadata": {},
   "outputs": [],
   "source": [
    "import numpy as np\n",
    "import pandas as pd\n",
    "import re\n",
    "\n",
    "import nltk"
   ]
  },
  {
   "cell_type": "code",
   "execution_count": 23,
   "metadata": {},
   "outputs": [],
   "source": [
    "df_sample  = pd.read_csv('/home/syed.b/emails.csv', skiprows = lambda x : np.random.rand() > 0.01 and x > 0)"
   ]
  },
  {
   "cell_type": "code",
   "execution_count": 24,
   "metadata": {},
   "outputs": [
    {
     "data": {
      "text/plain": [
       "(5328, 2)"
      ]
     },
     "execution_count": 24,
     "metadata": {},
     "output_type": "execute_result"
    }
   ],
   "source": [
    "df_sample.shape"
   ]
  },
  {
   "cell_type": "code",
   "execution_count": 26,
   "metadata": {},
   "outputs": [
    {
     "data": {
      "text/plain": [
       "\"Message-ID: <20641191.1075855687472.JavaMail.evans@thyme>\\nDate: Tue, 17 Oct 2000 02:26:00 -0700 (PDT)\\nFrom: phillip.allen@enron.com\\nTo: mark.scott@enron.com\\nSubject: Re: High Speed Internet Access\\nMime-Version: 1.0\\nContent-Type: text/plain; charset=us-ascii\\nContent-Transfer-Encoding: 7bit\\nX-From: Phillip K Allen\\nX-To: Mark Scott\\nX-cc: \\nX-bcc: \\nX-Folder: \\\\Phillip_Allen_Dec2000\\\\Notes Folders\\\\'sent mail\\nX-Origin: Allen-P\\nX-FileName: pallen.nsf\\n\\n1. login:  pallen pw: ke9davis\\n\\n I don't think these are required by the ISP \\n\\n  2.  static IP address\\n\\n IP: 64.216.90.105\\n Sub: 255.255.255.248\\n gate: 64.216.90.110\\n DNS: 151.164.1.8\\n\\n  3.  Company: 0413\\n        RC:  105891\""
      ]
     },
     "execution_count": 26,
     "metadata": {},
     "output_type": "execute_result"
    }
   ],
   "source": [
    "df_sample['message'][0]"
   ]
  },
  {
   "cell_type": "code",
   "execution_count": 31,
   "metadata": {},
   "outputs": [
    {
     "data": {
      "text/plain": [
       "['Mr. Buckner,',\n",
       " 'For delivered gas behind San Diego, Enron Energy Services is the appropriate',\n",
       " 'Enron entity.  I have forwarded your request to Zarin Imam at EES.  Her phone',\n",
       " 'number is 713-853-7107.',\n",
       " 'Phillip Allen']"
      ]
     },
     "execution_count": 31,
     "metadata": {},
     "output_type": "execute_result"
    }
   ],
   "source": [
    "# Cleaning patterns\n",
    "\n",
    "[ x.strip() for x in df_sample['message'][1].split('FileName:')[1].split('\\n',1)[1].strip('\\n').split('\\n') if x]\n"
   ]
  },
  {
   "cell_type": "code",
   "execution_count": null,
   "metadata": {},
   "outputs": [],
   "source": []
  }
 ],
 "metadata": {
  "kernelspec": {
   "display_name": "Python 3",
   "language": "python",
   "name": "python3"
  },
  "language_info": {
   "codemirror_mode": {
    "name": "ipython",
    "version": 3
   },
   "file_extension": ".py",
   "mimetype": "text/x-python",
   "name": "python",
   "nbconvert_exporter": "python",
   "pygments_lexer": "ipython3",
   "version": "3.7.3"
  }
 },
 "nbformat": 4,
 "nbformat_minor": 2
}
